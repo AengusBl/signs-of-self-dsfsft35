{
 "cells": [
  {
   "cell_type": "markdown",
   "id": "350971bf",
   "metadata": {},
   "source": [
    "# Projet BIG5 - Analyse de la personnalité via le Langage Naturel"
   ]
  },
  {
   "cell_type": "markdown",
   "id": "95b78d37",
   "metadata": {},
   "source": [
    "## Objectifs du projet\n",
    "\n",
    "- **Concevoir et développer une application web interactive capable d'analyser les réponses textuelles libres** d'un utilisateur à une série de 8 à 10 questions ouvertes, afin de **prédire son profil de personnalité selon le modèle Big Five (OCEAN)**. \n",
    "\n",
    "- **Générer des insights personnalisés pour l'utilisateur**, facilitant une meilleure connaissance de soi et proposer des recommandations comportementales basées sur les traits identifiés (exemples de feedback : forces, axes d'amélioration, comportement en situation de stress).\n",
    "\n",
    "- **Explorer les techniques avancées de NLP et l'application des LLMs**, tout en comprenant  les limites des modèles.\n",
    "\n",
    "- **Valider le modèle par LLM** : en demandant à un LLM de générer des réponses sous des \"personas\" OCEAN spécifiques et en les faisant prédire par notre modèle (si le temps le permet)."
   ]
  },
  {
   "cell_type": "markdown",
   "id": "6c8e4e7e",
   "metadata": {},
   "source": [
    "## Le Big Five, Kesako ?\n",
    "\n",
    "Le modèle de personnalité Big Five est issu d'une analyse factorielle de questions basées sur des adjectifs descriptifs courants. Cette analyse a permis de dégager cinq traits de personnalité distincts :\n",
    "\n",
    "| Trait (OCEAN)     | Description psychologique                                                                 | Haut score ⬆️                                   | Bas score ⬇️                                    |\n",
    "|---------------------|--------------------------------------------------------------------------------------------|-------------------------------------------------------------------------|-------------------------------------------------------------------------|\n",
    "| **Openness** (Ouverture à l’experience)        | Tendance à l'imagination, à la curiosité intellectuelle et à l'ouverture aux nouvelles expériences. | Curieux, inventif, imaginatif, original, ouvert d'esprit.               | Pragmatique, factuel, terre-à-terre, ancré dans le réel, constant.      |\n",
    "| **Conscientiousness**  (Conscience / Rigueur)| Degré d'organisation, de fiabilité et de discipline personnelle.                          | Organisé, méticuleux, discipliné, prévoyant, persévérant.               | Spontané, adaptable, flexible, moins rigide, détendu face au changement.|\n",
    "| **Extraversion**    | Niveau d'énergie sociale, d'affirmation de soi et de recherche de stimulation externe.     | Énergique, sociable, extraverti, s'exprime facilement, enthousiaste.    | Réservé, réfléchi, calme, indépendant, attentif.                        |\n",
    "| **Agreeableness** (Agréabilité / Amabilité)  | Tendance à l'empathie, à la coopération et à la considération pour autrui.                 | Bienveillant, coopératif, empathique, conciliant, généreux.             | Analytique, indépendant, assertif, sait défendre ses opinions, réaliste.|\n",
    "| **Neuroticism** (Névrosisme)    | Stabilité émotionnelle et capacité à gérer le stress et les émotions négatives.           | Sensible, introspectif, conscient de ses émotions, prudent.             | Serein, confiant, stable émotionnellement, résilient, peu affecté par le stress. |"
   ]
  },
  {
   "cell_type": "markdown",
   "id": "4b382874",
   "metadata": {},
   "source": [
    "## Publics cibles\n",
    "\n",
    "**Personnes en quête de connaissance de soi**, curieuses de mieux se connaître, souhaitant explorer leur personnalité, comprendre leurs traits dominants, et potentiellement identifier des axes de développement personnel.\n",
    "\n",
    "***Chercheurs en psychologie et sciences comportementales*** *: l'application pourrait potentiellement être utilisée pour collecter des données anonymisées (avec consentement) pour des études sur la personnalité, les corrélations entre langage et traits de personnalité, ou le développement de nouveaux modèles prédictifs.*"
   ]
  },
  {
   "cell_type": "markdown",
   "id": "b5b83d72",
   "metadata": {},
   "source": [
    "---"
   ]
  },
  {
   "cell_type": "markdown",
   "id": "139c18e8",
   "metadata": {},
   "source": [
    "## Définition du MVP (Minimum Viable Product)\n",
    "\n",
    "### Dataset Essays (retenu dans un premier temps)\n",
    "- **Stream of consciousness essays `jingjietan/essays-big5`** : référence scientifique en psychologie, issue d'un flux de conscience collecté en environnement contrôlé par James Pennebaker et Laura King et étiqueté selon les cinq grands traits de personnalité (potentiellement moins de biais d'auto-sélection que les médias sociaux). 2 470 lignes (1 580 train, 395 validation, 494 test).  [Pour en savoir plus](http://web.archive.org/web/20160519045708/http://mypersonality.org/wiki/doku.php?id=wcpr13)\n",
    "- Lexique des émotions : un lexique d'environ 14 000 mots a été utilisé. [Pour plus d'informations](https://www.saifmohammad.com/WebPages/NRC-Emotion-Lexicon.htm)\n",
    "\n",
    "### Interface Utilisateur simple en anglais :\n",
    "- Page d'accueil : brève introduction au projet et à son objectif.\n",
    "- Formulaire de questions : affichage de 8 à 10 questions ouvertes (définies en amont, claires et incitant à des réponses détaillées). Champ de texte libre pour chaque réponse.\n",
    "- Bouton de soumission pour envoyer les réponses.\n",
    "- Visualisation des résultats (radar chart, bar chart) pour une classification multi-labels (5 traits OCEAN binaire).\n",
    "\n",
    "### Moteur d'analyse (back-end) :\n",
    "- *Collecte et stockage des réponses : stockage sécurisé des réponses textuelles (sans identification personnelle).*\n",
    "- Modèle prédictif de personnalité : intégration d'un premier modèle de classification multi-labels (par exemple un modèle BERT ou ROBERTa fine-tuné) capable d'analyser les réponses et de générer un score pour chaque dimension OCEAN.\n",
    "\n",
    "### Affichage des résultats (front-end) :\n",
    "- Page de résultats : présentation claire et concise du profil OCEAN de l'utilisateur, idéalement sous forme de graphiques simples (par exemple, un radar chart ou des barres) montrant le score pour chaque trait.\n",
    "- Brève interprétation : une ou deux phrases explicatives pour chaque trait, basées sur le score obtenu.\n",
    "\n",
    "### Mentions légales et confidentialité :\n",
    "- Politique de confidentialité succincte : informant l'utilisateur de la manière dont ses données sont traitées et de leur usage (anonymisation)."
   ]
  },
  {
   "cell_type": "markdown",
   "id": "5359a1d8",
   "metadata": {},
   "source": [
    "---"
   ]
  },
  {
   "cell_type": "markdown",
   "id": "e4f26779",
   "metadata": {},
   "source": [
    "## Stack Technologique\n",
    "\n",
    "| Objectif                     | Outils                          |\n",
    "|-----------------------------|-------------------------------------------|\n",
    "| Data Preprocessing          | `pandas`, *`spaCy`, `nltk`* |\n",
    "| Modélisation              | *`scikit-learn`*, *`XGBoost`*, `transformers` (fine-tuning de modèles de langage pré-entraînés -> ex: BERT, RoBERTa)   |\n",
    "| NLP / Embeddings           | `HuggingFace Transformer`, `sentence-transformers`, `Trainer`   |\n",
    "| Web App                     | `Streamlit`, `Plotly`, `Matplotlib` |\n",
    "| Déploiement                 | `Docker`, `Hugging Face Spaces` |\n",
    "| Feedback   | LLM |\n",
    "| *Traduction*            | *`transformers`(à voir si le timing le permet)* |\n",
    "| *Validation externe des profils*  | *LLM à discuter ensemble*  |"
   ]
  },
  {
   "cell_type": "markdown",
   "id": "2e3b4f67",
   "metadata": {},
   "source": [
    "----"
   ]
  },
  {
   "cell_type": "markdown",
   "id": "88ec7c40",
   "metadata": {},
   "source": [
    "## Feuille de route\n",
    "\n",
    "### EDA & Preprocessing\n",
    "- Choix et compréhension des datasets \n",
    "- **Analyse exploratoire** (visualisation des distributions, des longueurs des textes...)\n",
    "- **Tokenisation**, **embeddings**\n",
    "- *Harmonisation des labels (si concaténation)*\n",
    "\n",
    "### Modélisation & Evaluation\n",
    "- **Entraînement d’un modèle de base** : classifiers simples (`LogisticRegression`, `XGBoost`)\n",
    "- **Finetuning** d'un modèle Transformer : modèle pré-entraîné (ex: BERT) \n",
    "- **Évaluation des performances** pour chaque trait et pour le type global (accuracy, F1-score par classe, confusion matrix).\n",
    "- **Feature Engineering**\n",
    "- ***Validation externe par LLM*** : utilisation d'un LLM pour générer des réponses synthétiques sous différents \"personas\" OCEAN, puis faire prédire ces réponses par notre modèle (à voir si on retient cette option, mais innovant et pertinent pour évaluer notre problème de biais)\n",
    "\n",
    "### Développement de l'application Streamlit\n",
    "- **Interface utilisateur** avec 8 à 10 questions ouvertes (charte graphique, logo)\n",
    "- **Implémentation** de la logique de prédiction du modèle.\n",
    "- **Visualisation** des résultats (radar chart, bar chart).\n",
    "- **Intégration d'un feedback généré par un LLM** (forces, axes d'amélioration, comportement en stress) basés sur le profil prédit.\n",
    "- **Traduction en français** (si temps nécessaire)\n",
    "\n",
    "### Déploiement & Tests\n",
    "- **Dockerisation** du projet\n",
    "- **Déploiement** en ligne (Hugging Face Spaces)\n",
    "- **Tests** utilisateurs\n",
    "- **Corrections** et améliorations UX/UI\n",
    "\n",
    "### Documentation & Préparation Finale\n",
    "- Documentation du projet\n",
    "- Construction du support de présentation\n",
    "- Entrainement pour la présentation"
   ]
  },
  {
   "cell_type": "markdown",
   "id": "7f89fc90",
   "metadata": {},
   "source": [
    "---"
   ]
  },
  {
   "cell_type": "markdown",
   "id": "b25a7066",
   "metadata": {},
   "source": [
    "## Points de Vigilance / Limites\n",
    "\n",
    "- Précision de la prédiction : la complexité de l'analyse sémantique des réponses libres peut rendre la prédiction des traits de personnalité imprécise.\n",
    "\n",
    "- Qualité des données d'entraînement : l'obtention de données d'entraînement de qualité est cruciale, bien que complexe, pour développer un modèle performant (--> privilégier la qualité à la quantité).\n",
    "\n",
    "- Biais  de sélection et biais algorithmiques : vigilance particulière pour identifier et atténuer ces biais."
   ]
  },
  {
   "cell_type": "markdown",
   "id": "4e121da1",
   "metadata": {},
   "source": [
    "---"
   ]
  },
  {
   "cell_type": "markdown",
   "id": "85b4426a",
   "metadata": {},
   "source": [
    "## Références pour inspiration / benchmarking\n",
    "\n",
    "- [myPersonality Project](http://web.archive.org/web/20160518020419/http://mypersonality.org/wiki/doku.php?id=download_databases)\n",
    "\n",
    "- [Personality Prediction from Text](https://github.com/jcl132/personality-prediction-from-text) (GitHub - jcl132)\n",
    "\n",
    "- [Personality Prediction from Text](https://github.com/jkwieser/personality-prediction-from-text/tree/master) (GitHub - jkwieser)\n",
    "\n",
    "- [Introducing Text Analytics: Personality from Text](https://www.kaggle.com/code/datasniffer/introducing-text-analytics-personality-from-text) (Kaggle)\n",
    "\n",
    "- [Big Five Personality Traits Prediction Based on User Comments](https://www.preprints.org/manuscript/202504.2499/v1) (kaggle)\n",
    "\n",
    "- [www.assessfirst.com](https://www.assessfirst.com/fr/comprendre-personnalite-test-big-five/)"
   ]
  },
  {
   "cell_type": "markdown",
   "id": "f43cf992",
   "metadata": {},
   "source": [
    "## Références bibliographiques\n",
    "\n",
    "- [Big Five Personality Trait Prediction Based on User Comments](https://www.mdpi.com/2078-2489/16/5/418)\n",
    "\n",
    "- [Semantic Approach for Big Five Personality Prediction on Twitter](https://pdfs.semanticscholar.org/1172/a35031939ba1a2ce291950953656a86edf49.pdf)"
   ]
  }
 ],
 "metadata": {
  "language_info": {
   "name": "python"
  }
 },
 "nbformat": 4,
 "nbformat_minor": 5
}
